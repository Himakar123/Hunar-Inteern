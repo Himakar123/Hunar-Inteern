{
 "cells": [
  {
   "cell_type": "code",
   "execution_count": 1,
   "id": "95cde843",
   "metadata": {},
   "outputs": [
    {
     "name": "stdout",
     "output_type": "stream",
     "text": [
      "DOWN\n",
      "DOWN\n",
      "LEFT\n",
      "LEFT\n"
     ]
    }
   ],
   "source": [
    "def display_Path_to_Princess(N, grid):\n",
    "    # Find the positions of the bot 'm' and the princess 'p'\n",
    "    bot_pos = None\n",
    "    princess_pos = None\n",
    "    \n",
    "    for i in range(N):\n",
    "        for j in range(N):\n",
    "            if grid[i][j] == 'm':\n",
    "                bot_pos = (i, j)\n",
    "            elif grid[i][j] == 'p':\n",
    "                princess_pos = (i, j)\n",
    "    \n",
    "    # Calculate the vertical and horizontal moves required\n",
    "    vertical_moves = princess_pos[0] - bot_pos[0]\n",
    "    horizontal_moves = princess_pos[1] - bot_pos[1]\n",
    "    \n",
    "    # Output the vertical moves\n",
    "    if vertical_moves > 0:\n",
    "        for _ in range(vertical_moves):\n",
    "            print(\"DOWN\")\n",
    "    else:\n",
    "        for _ in range(-vertical_moves):\n",
    "            print(\"UP\")\n",
    "    \n",
    "    # Output the horizontal moves\n",
    "    if horizontal_moves > 0:\n",
    "        for _ in range(horizontal_moves):\n",
    "            print(\"RIGHT\")\n",
    "    else:\n",
    "        for _ in range(-horizontal_moves):\n",
    "            print(\"LEFT\")\n",
    "\n",
    "# Example input\n",
    "N = 5\n",
    "grid = [\n",
    "    ['-', '-', '-', '-', '-'],\n",
    "    ['-', '-', '-', '-', '-'],\n",
    "    ['-', '-', 'm', '-', '-'],\n",
    "    ['-', '-', '-', '-', '-'],\n",
    "    ['p', '-', '-', '-', '-']\n",
    "]\n",
    "\n",
    "display_Path_to_Princess(N, grid)\n"
   ]
  },
  {
   "cell_type": "code",
   "execution_count": null,
   "id": "c0256b0a",
   "metadata": {},
   "outputs": [],
   "source": []
  }
 ],
 "metadata": {
  "kernelspec": {
   "display_name": "Python 3 (ipykernel)",
   "language": "python",
   "name": "python3"
  },
  "language_info": {
   "codemirror_mode": {
    "name": "ipython",
    "version": 3
   },
   "file_extension": ".py",
   "mimetype": "text/x-python",
   "name": "python",
   "nbconvert_exporter": "python",
   "pygments_lexer": "ipython3",
   "version": "3.11.4"
  }
 },
 "nbformat": 4,
 "nbformat_minor": 5
}
